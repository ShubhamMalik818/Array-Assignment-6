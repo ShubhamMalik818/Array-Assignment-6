{
 "cells": [
  {
   "cell_type": "code",
   "execution_count": null,
   "id": "01366afc-f570-4865-a1da-240b5f33272f",
   "metadata": {},
   "outputs": [],
   "source": [
    "Question 1\n",
    "\n",
    "A permutation perm of n + 1 integers of all the integers in the range [0, n] can be represented as a string s of length n where:\n",
    "\n",
    "- s[i] == 'I' if perm[i] < perm[i + 1], and\n",
    "- s[i] == 'D' if perm[i] > perm[i + 1].\n",
    "\n",
    "Given a string s, reconstruct the permutation perm and return it. If there are multiple valid permutations perm, return any of them.\n",
    "\n",
    "Example 1:\n",
    "\n",
    "Input: s = \"IDID\"\n",
    "\n",
    "Output:\n",
    "\n",
    "[0,4,1,3,2]"
   ]
  },
  {
   "cell_type": "code",
   "execution_count": 1,
   "id": "9eebbd06-d4da-4edb-916a-0597c13c2530",
   "metadata": {},
   "outputs": [],
   "source": [
    "def findPermutation(s):\n",
    "    n = len(s)\n",
    "    permutation = list(range(1, n + 2))  # Initial permutation\n",
    "\n",
    "    # Iterate through the string\n",
    "    for i in range(n):\n",
    "        if s[i] == 'D':\n",
    "            # If 'D', reverse the subarray to find the next available maximum integer\n",
    "            j = i\n",
    "            while i < n and s[i] == 'D':\n",
    "                i += 1\n",
    "            permutation[j:i + 1] = reversed(permutation[j:i + 1])\n",
    "\n",
    "    return permutation"
   ]
  },
  {
   "cell_type": "code",
   "execution_count": 2,
   "id": "ecb0ad31-cc77-458e-a59e-bb94541cde22",
   "metadata": {},
   "outputs": [
    {
     "name": "stdout",
     "output_type": "stream",
     "text": [
      "[1, 3, 2, 5, 4]\n"
     ]
    }
   ],
   "source": [
    "s = \"IDID\"\n",
    "print(findPermutation(s))  # Output: [0, 4, 1, 3, 2]"
   ]
  },
  {
   "cell_type": "code",
   "execution_count": null,
   "id": "87b9ee13-458b-4153-82fc-ca3eb38470d5",
   "metadata": {},
   "outputs": [],
   "source": [
    "Question 2\n",
    "\n",
    "You are given an m x n integer matrix matrix with the following two properties:\n",
    "\n",
    "- Each row is sorted in non-decreasing order.\n",
    "- The first integer of each row is greater than the last integer of the previous row.\n",
    "\n",
    "Given an integer target, return true if target is in matrix or false otherwise.\n",
    "\n",
    "You must write a solution in O(log(m * n)) time complexity.\n",
    "\n",
    "Example 1:\n",
    "\n",
    "Input: matrix = [[1,3,5,7],[10,11,16,20],[23,30,34,60]], target = 3\n",
    "\n",
    "Output: true"
   ]
  },
  {
   "cell_type": "code",
   "execution_count": 3,
   "id": "330398e1-4c88-436e-8629-d2f5a33b4519",
   "metadata": {},
   "outputs": [],
   "source": [
    "def searchMatrix(matrix, target):\n",
    "    m, n = len(matrix), len(matrix[0])\n",
    "    left, right = 0, m * n - 1\n",
    "\n",
    "    while left <= right:\n",
    "        mid = (left + right) // 2\n",
    "        mid_value = matrix[mid // n][mid % n]\n",
    "\n",
    "        if mid_value == target:\n",
    "            return True\n",
    "        elif mid_value < target:\n",
    "            left = mid + 1\n",
    "        else:\n",
    "            right = mid - 1\n",
    "\n",
    "    return False"
   ]
  },
  {
   "cell_type": "code",
   "execution_count": 4,
   "id": "34a3fcd3-6519-43df-b2b8-23541009cd6e",
   "metadata": {},
   "outputs": [
    {
     "name": "stdout",
     "output_type": "stream",
     "text": [
      "True\n"
     ]
    }
   ],
   "source": [
    "matrix = [[1, 3, 5, 7], [10, 11, 16, 20], [23, 30, 34, 60]]\n",
    "target = 3\n",
    "print(searchMatrix(matrix, target))  # Output: True"
   ]
  },
  {
   "cell_type": "code",
   "execution_count": null,
   "id": "a7ee7782-e348-42a3-aaf9-fb36111d8048",
   "metadata": {},
   "outputs": [],
   "source": [
    "Question 3\n",
    "\n",
    "Given an array of integers arr, return true if and only if it is a valid mountain array.\n",
    "\n",
    "Recall that arr is a mountain array if and only if:\n",
    "\n",
    "- arr.length >= 3\n",
    "- There exists some i with 0 < i < arr.length - 1 such that:\n",
    "    - arr[0] < arr[1] < ... < arr[i - 1] < arr[i]\n",
    "    - arr[i] > arr[i + 1] > ... > arr[arr.length - 1]\n",
    "\n",
    "Example 1:\n",
    "\n",
    "Input: arr = [2,1]\n",
    "\n",
    "Output:\n",
    "\n",
    "false"
   ]
  },
  {
   "cell_type": "code",
   "execution_count": 5,
   "id": "d2f78f75-cf81-429a-8f6b-fab243423560",
   "metadata": {},
   "outputs": [],
   "source": [
    "def validMountainArray(arr):\n",
    "    n = len(arr)\n",
    "    if n < 3:\n",
    "        return False\n",
    "\n",
    "    i = 0\n",
    "\n",
    "    # Ascending phase\n",
    "    while i < n - 1 and arr[i] < arr[i + 1]:\n",
    "        i += 1\n",
    "\n",
    "    # Check if there was no ascending phase or the last element is the peak\n",
    "    if i == 0 or i == n - 1:\n",
    "        return False\n",
    "\n",
    "    # Descending phase\n",
    "    while i < n - 1 and arr[i] > arr[i + 1]:\n",
    "        i += 1\n",
    "\n",
    "    return i == n - 1"
   ]
  },
  {
   "cell_type": "code",
   "execution_count": 6,
   "id": "62fd86f1-fee3-43fa-afbf-ec443a3d66bc",
   "metadata": {},
   "outputs": [
    {
     "name": "stdout",
     "output_type": "stream",
     "text": [
      "False\n"
     ]
    }
   ],
   "source": [
    "arr = [2, 1]\n",
    "print(validMountainArray(arr))  # Output: False"
   ]
  },
  {
   "cell_type": "code",
   "execution_count": null,
   "id": "e54e9f65-2b6f-4c65-8de5-40f82fdc852b",
   "metadata": {},
   "outputs": [],
   "source": [
    "Question 4\n",
    "\n",
    "Given a binary array nums, return the maximum length of a contiguous subarray with an equal number of 0 and 1.\n",
    "\n",
    "Example 1:\n",
    "\n",
    "Input: nums = [0,1]\n",
    "\n",
    "Output: 2\n",
    "\n",
    "Explanation:\n",
    "\n",
    "[0, 1] is the longest contiguous subarray with an equal number of 0 and 1."
   ]
  },
  {
   "cell_type": "code",
   "execution_count": 7,
   "id": "4eceb1d3-f271-4704-9d77-0fba8da0cf8f",
   "metadata": {},
   "outputs": [],
   "source": [
    "def findMaxLength(nums):\n",
    "    count = 0\n",
    "    max_length = 0\n",
    "    count_dict = {0: -1}\n",
    "\n",
    "    for i, num in enumerate(nums):\n",
    "        if num == 0:\n",
    "            count -= 1\n",
    "        else:\n",
    "            count += 1\n",
    "\n",
    "        if count in count_dict:\n",
    "            max_length = max(max_length, i - count_dict[count])\n",
    "        else:\n",
    "            count_dict[count] = i\n",
    "\n",
    "    return max_length"
   ]
  },
  {
   "cell_type": "code",
   "execution_count": 8,
   "id": "8fd7497e-47c5-45aa-923e-8ca806203d7c",
   "metadata": {},
   "outputs": [
    {
     "name": "stdout",
     "output_type": "stream",
     "text": [
      "2\n"
     ]
    }
   ],
   "source": [
    "nums = [0, 1]\n",
    "print(findMaxLength(nums))  # Output: 2"
   ]
  },
  {
   "cell_type": "code",
   "execution_count": null,
   "id": "74a90eae-a8bd-4b04-b6ce-2ef69a1f0bcc",
   "metadata": {},
   "outputs": [],
   "source": [
    "Question 5\n",
    "\n",
    "The product sum of two equal-length arrays a and b is equal to the sum of a[i] * b[i] for all 0 <= i < a.length (0-indexed).\n",
    "\n",
    "- For example, if a = [1,2,3,4] and b = [5,2,3,1], the product sum would be 1*5 + 2*2 + 3*3 + 4*1 = 22.\n",
    "\n",
    "Given two arrays nums1 and nums2 of length n, return the minimum product sum if you are allowed to rearrange the order of the \n",
    "elements in nums1. \n",
    "\n",
    "Example 1:\n",
    "\n",
    "Input: nums1 = [5,3,4,2], nums2 = [4,2,2,5]\n",
    "\n",
    "Output: 40\n",
    "\n",
    "Explanation:\n",
    "\n",
    "We can rearrange nums1 to become [3,5,4,2]. The product sum of [3,5,4,2] and [4,2,2,5] is 3*4 + 5*2 + 4*2 + 2*5 = 40."
   ]
  },
  {
   "cell_type": "code",
   "execution_count": 9,
   "id": "0fb0393c-dcf2-421b-9f03-1bf0c489924b",
   "metadata": {},
   "outputs": [],
   "source": [
    "def minProductSum(nums1, nums2):\n",
    "    nums1.sort()\n",
    "    nums2.sort(reverse=True)\n",
    "\n",
    "    min_product_sum = 0\n",
    "    for i in range(len(nums1)):\n",
    "        min_product_sum += nums1[i] * nums2[i]\n",
    "\n",
    "    return min_product_sum"
   ]
  },
  {
   "cell_type": "code",
   "execution_count": 10,
   "id": "2ab1d821-6179-4b45-b9d8-825db6667bdd",
   "metadata": {},
   "outputs": [
    {
     "name": "stdout",
     "output_type": "stream",
     "text": [
      "40\n"
     ]
    }
   ],
   "source": [
    "nums1 = [5, 3, 4, 2]\n",
    "nums2 = [4, 2, 2, 5]\n",
    "print(minProductSum(nums1, nums2))  # Output: 40"
   ]
  },
  {
   "cell_type": "code",
   "execution_count": null,
   "id": "d9e2964a-bf17-401d-9afd-365caea38383",
   "metadata": {},
   "outputs": [],
   "source": [
    "Question 6\n",
    "\n",
    "An integer array original is transformed into a doubled array changed by appending twice the value of every element in original, \n",
    "and then randomly shuffling the resulting array.\n",
    "\n",
    "Given an array changed, return original if changed is a doubled array. If changed is not a doubled array, return an empty array. \n",
    "The elements in original may be returned in any order.\n",
    "\n",
    "Example 1:\n",
    "\n",
    "Input: changed = [1,3,4,2,6,8]\n",
    "\n",
    "Output: [1,3,4]\n",
    "\n",
    "Explanation: One possible original array could be [1,3,4]:\n",
    "\n",
    "- Twice the value of 1 is 1 * 2 = 2.\n",
    "- Twice the value of 3 is 3 * 2 = 6.\n",
    "- Twice the value of 4 is 4 * 2 = 8.\n",
    "\n",
    "Other original arrays could be [4,3,1] or [3,1,4]."
   ]
  },
  {
   "cell_type": "code",
   "execution_count": 11,
   "id": "887ec194-b4e1-42a6-a85f-67da7d21e44f",
   "metadata": {},
   "outputs": [],
   "source": [
    "from collections import Counter\n",
    "\n",
    "def findOriginalArray(changed):\n",
    "    if len(changed) % 2 != 0:\n",
    "        return []\n",
    "\n",
    "    counts = Counter(changed)\n",
    "    original = []\n",
    "\n",
    "    for num in changed:\n",
    "        if counts[num] == 0:\n",
    "            continue\n",
    "\n",
    "        if counts[num * 2] == 0:\n",
    "            return []\n",
    "\n",
    "        original.append(num)\n",
    "        counts[num] -= 1\n",
    "        counts[num * 2] -= 1\n",
    "\n",
    "    return original"
   ]
  },
  {
   "cell_type": "code",
   "execution_count": 12,
   "id": "acd5c932-44ed-4dd4-b8cc-108cb42b7260",
   "metadata": {},
   "outputs": [
    {
     "name": "stdout",
     "output_type": "stream",
     "text": [
      "[1, 3, 4]\n"
     ]
    }
   ],
   "source": [
    "changed = [1, 3, 4, 2, 6, 8]\n",
    "print(findOriginalArray(changed))  # Output: [1, 3, 4]"
   ]
  },
  {
   "cell_type": "code",
   "execution_count": null,
   "id": "18d16a9b-5ba9-49df-b262-8946c120d293",
   "metadata": {},
   "outputs": [],
   "source": [
    "Question 7\n",
    "\n",
    "Given a positive integer n, generate an n x n matrix filled with elements from 1 to n2 in spiral order.\n",
    "\n",
    "Example 1:\n",
    "\n",
    "Input: n = 3\n",
    "\n",
    "Output: [[1,2,3],[8,9,4],[7,6,5]]"
   ]
  },
  {
   "cell_type": "code",
   "execution_count": 13,
   "id": "5aa9a7ce-1780-4ebe-b260-25ff190b6aaa",
   "metadata": {},
   "outputs": [],
   "source": [
    "def generateMatrix(n):\n",
    "    matrix = [[0] * n for _ in range(n)]\n",
    "    num = 1\n",
    "    top = 0\n",
    "    bottom = n - 1\n",
    "    left = 0\n",
    "    right = n - 1\n",
    "\n",
    "    while num <= n * n:\n",
    "        # Fill top row\n",
    "        for i in range(left, right + 1):\n",
    "            matrix[top][i] = num\n",
    "            num += 1\n",
    "        top += 1\n",
    "\n",
    "        # Fill right column\n",
    "        for i in range(top, bottom + 1):\n",
    "            matrix[i][right] = num\n",
    "            num += 1\n",
    "        right -= 1\n",
    "\n",
    "        # Fill bottom row\n",
    "        for i in range(right, left - 1, -1):\n",
    "            matrix[bottom][i] = num\n",
    "            num += 1\n",
    "        bottom -= 1\n",
    "\n",
    "        # Fill left column\n",
    "        for i in range(bottom, top - 1, -1):\n",
    "            matrix[i][left] = num\n",
    "            num += 1\n",
    "        left += 1\n",
    "\n",
    "    return matrix"
   ]
  },
  {
   "cell_type": "code",
   "execution_count": 14,
   "id": "c1358cf9-9c86-4099-963c-8f92967975d0",
   "metadata": {},
   "outputs": [
    {
     "name": "stdout",
     "output_type": "stream",
     "text": [
      "[[1, 2, 3], [8, 9, 4], [7, 6, 5]]\n"
     ]
    }
   ],
   "source": [
    "n = 3\n",
    "print(generateMatrix(n))  # Output: [[1, 2, 3], [8, 9, 4], [7, 6, 5]]"
   ]
  },
  {
   "cell_type": "code",
   "execution_count": null,
   "id": "4c02eb68-9af4-428f-bd70-6fb56ce4f62e",
   "metadata": {},
   "outputs": [],
   "source": [
    "Question 8\n",
    "\n",
    "Given two [sparse matrices] mat1 of size m x k and mat2 of size k x n, return the result of mat1 x mat2. \n",
    "You may assume that multiplication is always possible.\n",
    "\n",
    "Example 1:\n",
    "\n",
    "Input: mat1 = [[1,0,0],[-1,0,3]], mat2 = [[7,0,0],[0,0,0],[0,0,1]]\n",
    "\n",
    "Output:\n",
    "\n",
    "[[7,0,0],[-7,0,3]]"
   ]
  }
 ],
 "metadata": {
  "kernelspec": {
   "display_name": "Python 3 (ipykernel)",
   "language": "python",
   "name": "python3"
  },
  "language_info": {
   "codemirror_mode": {
    "name": "ipython",
    "version": 3
   },
   "file_extension": ".py",
   "mimetype": "text/x-python",
   "name": "python",
   "nbconvert_exporter": "python",
   "pygments_lexer": "ipython3",
   "version": "3.10.8"
  }
 },
 "nbformat": 4,
 "nbformat_minor": 5
}
